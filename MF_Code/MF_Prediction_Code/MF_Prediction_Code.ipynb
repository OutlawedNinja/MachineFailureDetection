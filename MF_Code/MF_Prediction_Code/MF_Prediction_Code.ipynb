{
 "cells": [
  {
   "cell_type": "markdown",
   "metadata": {},
   "source": [
    " Import Library"
   ]
  },
  {
   "cell_type": "code",
   "execution_count": 26,
   "metadata": {},
   "outputs": [],
   "source": [
    "import pickle\n",
    "import numpy as np\n",
    "import pandas as pd\n",
    "from math import sqrt\n",
    "import tensorflow as tf\n",
    "from random import randint\n",
    "import sklearn.linear_model\n",
    "from matplotlib import pyplot\n",
    "from keras.models import Sequential\n",
    "from keras.models import load_model\n",
    "from keras.layers import LSTM,Dense\n",
    "from sklearn.preprocessing import MinMaxScaler\n",
    "from sklearn.metrics import mean_squared_error\n",
    "from sklearn.preprocessing import MinMaxScaler"
   ]
  },
  {
   "cell_type": "markdown",
   "metadata": {},
   "source": [
    " Definitions"
   ]
  },
  {
   "cell_type": "markdown",
   "metadata": {},
   "source": [
    " Frame a sequence as a supervised learning problem"
   ]
  },
  {
   "cell_type": "code",
   "execution_count": 27,
   "metadata": {},
   "outputs": [],
   "source": [
    "def timeseries_to_supervised(data, lag=1):\n",
    "    df = pd.DataFrame(data)\n",
    "    columns = [df.shift(i) for i in range(1, lag+1)]\n",
    "    columns.append(df)\n",
    "    df = pd.concat(columns, axis=1)\n",
    "    df.fillna(0, inplace=True)\n",
    "    return df"
   ]
  },
  {
   "cell_type": "markdown",
   "metadata": {},
   "source": [
    " Removing trend- Making Stationary"
   ]
  },
  {
   "cell_type": "code",
   "execution_count": 28,
   "metadata": {},
   "outputs": [],
   "source": [
    "def difference(dataset, interval=1):\n",
    "    diff = list()\n",
    "    diff.append(0)\n",
    "    for i in range(interval, len(dataset)):\n",
    "        value = dataset[i] - dataset[i - interval]\n",
    "        diff.append(value)\n",
    "    return pd.Series(diff)"
   ]
  },
  {
   "cell_type": "markdown",
   "metadata": {},
   "source": [
    " Invert diffferenced value - Get Orignial Value"
   ]
  },
  {
   "cell_type": "code",
   "execution_count": 29,
   "metadata": {},
   "outputs": [],
   "source": [
    "def inverse_difference(history, yhat, interval=1):\n",
    "\treturn yhat + history[-interval]"
   ]
  },
  {
   "cell_type": "markdown",
   "metadata": {},
   "source": [
    " Scale Data"
   ]
  },
  {
   "cell_type": "code",
   "execution_count": 30,
   "metadata": {},
   "outputs": [],
   "source": [
    "def scale(data):\n",
    "    scaler = MinMaxScaler(feature_range=(-1, 1))\n",
    "    scaler = scaler.fit(data.astype('float32'))\n",
    "    data = data.reshape(data.shape[0],data.shape[1])\n",
    "    scaled_X = scaler.transform(data)\n",
    "    return scaler,scaled_X"
   ]
  },
  {
   "cell_type": "markdown",
   "metadata": {},
   "source": [
    " Inverse scailing for forecasted value"
   ]
  },
  {
   "cell_type": "code",
   "execution_count": 31,
   "metadata": {},
   "outputs": [],
   "source": [
    "def inverse_scale(scaler,X,value):\n",
    "    new_row = [x for x in X] + [value]\n",
    "    array = np.array(new_row)\n",
    "    array = array.reshape(1,len(array))\n",
    "    inverted = scaler.inverse_transform(array)\n",
    "    return inverted[0,-1]"
   ]
  },
  {
   "cell_type": "markdown",
   "metadata": {},
   "source": [
    " Predict output"
   ]
  },
  {
   "cell_type": "code",
   "execution_count": 32,
   "metadata": {},
   "outputs": [],
   "source": [
    "def predict_data(data,scaler,model):\n",
    "    global prev,trigger_count,trigger_value,zero_count\n",
    "    ## Input Transformation\n",
    "    data=data.reshape(data.shape[0],1)\n",
    "    raw_values=data\n",
    "    data=difference(data,1)\n",
    "    data=timeseries_to_supervised(data,1)\n",
    "    data=scaler.transform(data)\n",
    "    for i in range(len(data)):\n",
    "        X= data[i,1]\n",
    "        X=X.reshape(1,1,1)\n",
    "        ## Predicting the next possible value\n",
    "        yhat = model.predict(X,1)\n",
    "        ## Inverse Transformation\n",
    "        yhat=inverse_scale(scaler,X,yhat)\n",
    "        yhat=inverse_difference(raw_values,yhat,len(data)-i)\n",
    "        print(\"present Machine Value is:\",raw_values[i])\n",
    "        print(\"expected next Machine value could be \",yhat)\n",
    "        ## Calling Classifier to decide device on or off\n",
    "        predict_alert(int(yhat))\n",
    "        val=raw_values[i]\n",
    "        ## Retraining Logic\n",
    "        if val == 0:\n",
    "            if 0 != prev:\n",
    "                trigger_count+=1\n",
    "                if trigger_value > prev:\n",
    "                    trigger_value=prev\n",
    "                if trigger_count >= trig:\n",
    "                    retrain(raw_values)\n",
    "                    trigger_count=0\n",
    "            zero_count+=1\n",
    "        prev=val\n",
    "    return yhat"
   ]
  },
  {
   "cell_type": "markdown",
   "metadata": {},
   "source": [
    " Calling Classifier"
   ]
  },
  {
   "cell_type": "code",
   "execution_count": 33,
   "metadata": {},
   "outputs": [],
   "source": [
    "def predict_alert(data):\n",
    "    ## Load Model\n",
    "    clf=pickle.load(open(\"clf\",\"rb\"))\n",
    "    ## Predict Class\n",
    "    y_pred=clf.predict([[data]])\n",
    "    if np.array(y_pred[0]) == 0 :\n",
    "        print(\"Aleart Message For Machine Failure\")\n",
    "    else:\n",
    "        print(\"Machine status is Normal \")\n",
    "    return 0;"
   ]
  },
  {
   "cell_type": "markdown",
   "metadata": {},
   "source": [
    " Retraining the classifier for new threshold"
   ]
  },
  {
   "cell_type": "code",
   "execution_count": 34,
   "metadata": {},
   "outputs": [
    {
     "ename": "SyntaxError",
     "evalue": "invalid syntax (<ipython-input-34-a01816857b49>, line 32)",
     "output_type": "error",
     "traceback": [
      "\u001b[1;36m  File \u001b[1;32m\"<ipython-input-34-a01816857b49>\"\u001b[1;36m, line \u001b[1;32m32\u001b[0m\n\u001b[1;33m    print(\"*\"*,\"Reloading MOdel is completed\",\"*\"*)\u001b[0m\n\u001b[1;37m              ^\u001b[0m\n\u001b[1;31mSyntaxError\u001b[0m\u001b[1;31m:\u001b[0m invalid syntax\n"
     ]
    }
   ],
   "source": [
    "def retrain(data):\n",
    "    print(\"*\"*33,\"Retraining\",\"*\"*33)\n",
    "    ## Data Preparation for Training\n",
    "    data=pd.DataFrame(data,columns=[\"cpu_util\"])\n",
    "    temp_dataframe= pd.DataFrame(0, index=np.arange(len(data)), columns=[\"dev_status\"])\n",
    "    data=data.join(temp_dataframe)\n",
    "\n",
    "    ## Augmenting training data for Off state Label\n",
    "    for row in data.iterrows():\n",
    "        if 0 == row[1][0] :\n",
    "            row[1][0]=randint(trigger_value, int(trigger_value*1.4))\n",
    "            row[1][1]=0\n",
    "        elif row[1][0] >= trigger_value  :\n",
    "            row[1][1]=0\n",
    "        else:\n",
    "            row[1][1]=1\n",
    "    if zero_count < len(data)*0.5 :\n",
    "        for i in range(int(len(data)*0.5) - zero_count):\n",
    "            temp_dataframe=pd.DataFrame([[randint(trigger_value, int(trigger_value*1.4)), 0]], columns=[\"cpu_util\",\"dev_status\"])\n",
    "            data = data.append(temp_dataframe, ignore_index=True)\n",
    "\n",
    "    ## Data ready for retraining\n",
    "    X=data.cpu_util\n",
    "    Y=data.dev_status\n",
    "    X= X.values.reshape(-1,1)\n",
    "    Y = Y.values.reshape(-1,1)\n",
    "    ## Model Trained for new data\n",
    "    clf = sklearn.linear_model.LogisticRegressionCV()\n",
    "    clf.fit(X,Y)\n",
    "    ## Save the model\n",
    "    pickle.dump(clf,open(\"clf\",\"wb\"))\n",
    "    print(\"*\"*33,\"Reloading MOdel is completed\",\"*\"*33)"
   ]
  },
  {
   "cell_type": "markdown",
   "metadata": {},
   "source": [
    " Loading Model( LSTM Model, Classifier Model )"
   ]
  },
  {
   "cell_type": "code",
   "execution_count": 23,
   "metadata": {},
   "outputs": [],
   "source": [
    "lstm_model = load_model('my_model.h5')\n",
    "scaler=pickle.load(open(\"scaler\",\"rb\"))"
   ]
  },
  {
   "cell_type": "markdown",
   "metadata": {},
   "source": [
    " Load input"
   ]
  },
  {
   "cell_type": "code",
   "execution_count": 24,
   "metadata": {},
   "outputs": [],
   "source": [
    "data=pd.read_csv(\"Verify_Dataset.csv\",header=None,names=[\"cpu_util\"])\n",
    " "
   ]
  },
  {
   "cell_type": "markdown",
   "metadata": {},
   "source": [
    " Some Initialization"
   ]
  },
  {
   "cell_type": "code",
   "execution_count": 25,
   "metadata": {},
   "outputs": [],
   "source": [
    "raw_values=data.cpu_util.values\n",
    "prev=data.max()\n",
    "trigger_value=int(data.max())\n",
    "trigger_count=0\n",
    "trig=5\n",
    "zero_count=0"
   ]
  },
  {
   "cell_type": "markdown",
   "metadata": {},
   "source": [
    " Calling Prediction - Result :- Early alert or no alert"
   ]
  },
  {
   "cell_type": "code",
   "execution_count": null,
   "metadata": {},
   "outputs": [],
   "source": [
    "predict_data(raw_values,scaler,lstm_model)"
   ]
  }
 ],
 "metadata": {
  "kernelspec": {
   "display_name": "Python 3",
   "language": "python",
   "name": "python3"
  },
  "language_info": {
   "codemirror_mode": {
    "name": "ipython",
    "version": 3
   },
   "file_extension": ".py",
   "mimetype": "text/x-python",
   "name": "python",
   "nbconvert_exporter": "python",
   "pygments_lexer": "ipython3",
   "version": "3.7.9"
  }
 },
 "nbformat": 4,
 "nbformat_minor": 2
}
